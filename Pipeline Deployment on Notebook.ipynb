{
 "cells": [
  {
   "cell_type": "markdown",
   "id": "4bce8d1a-f2b1-413d-b90a-75139a4dde92",
   "metadata": {},
   "source": [
    "*Created: 22 February 2022*<br>\n",
    "*Last Update: 22 February 2022*<br>\n",
    "*Author: Yasir Abdur Rohman*<br>\n",
    "**Property of PT Indonesia Power & Lab Getaran & Diagnosis Mesin Undip**\n",
    "\n",
    "---"
   ]
  },
  {
   "cell_type": "markdown",
   "id": "0c8ce2eb-c40d-4f2d-b8a4-ab605635853b",
   "metadata": {},
   "source": [
    "# Pipeline Deployment on Notebook"
   ]
  },
  {
   "cell_type": "markdown",
   "id": "062a0642-d541-4533-84c9-b8b6d5b135fb",
   "metadata": {},
   "source": [
    "## 1. Get data from PI System"
   ]
  },
  {
   "cell_type": "code",
   "execution_count": 4,
   "id": "0a6c490e-0747-4f79-aa3b-ad4d7cf3a42e",
   "metadata": {},
   "outputs": [],
   "source": [
    "import urllib3\n",
    "\n",
    "from osisoft.pidevclub.piwebapi.pi_web_api_client import PIWebApiClient\n",
    "from osisoft.pidevclub.piwebapi.models import PIAnalysis, PIItemsStreamValues, PIStreamValues, PITimedValue, PIRequest"
   ]
  },
  {
   "cell_type": "code",
   "execution_count": 64,
   "id": "811a4e50-7c48-4016-aabf-da1b703f0239",
   "metadata": {},
   "outputs": [],
   "source": [
    "import numpy as np\n",
    "import time\n",
    "from datetime import timedelta, date, datetime"
   ]
  },
  {
   "cell_type": "code",
   "execution_count": 126,
   "id": "7337ff75-2faf-48e2-808d-28a7371d737b",
   "metadata": {},
   "outputs": [
    {
     "data": {
      "text/plain": [
       "['af:\\\\\\\\pi1\\\\SLA5.Generator Gross Capacity',\n",
       " 'af:\\\\\\\\pi1\\\\SLA5.Turbine Lube Oil Cooler Outlet Temperature',\n",
       " 'af:\\\\\\\\pi1\\\\SLA5.Turbine.Bearing Oil Pressure',\n",
       " 'af:\\\\\\\\pi1\\\\SLA5.Turbine.Bearing 1 Metal Temperature',\n",
       " 'af:\\\\\\\\pi1\\\\SLA5.Turbine.Bearing 1 Drain Oil Temperature']"
      ]
     },
     "execution_count": 126,
     "metadata": {},
     "output_type": "execute_result"
    }
   ],
   "source": [
    "webapi = 'https://pivision.indonesiapower.corp/piwebapi'\n",
    "#pernah gagal klo pake user domain indonesiapower\\\n",
    "username = 'pisystem'\n",
    "password = 'Abcd1234!'\n",
    "\n",
    "def getPIWebApiClient(webapi_url, usernme, psswrd):\n",
    "    client = PIWebApiClient(webapi, False, \n",
    "                            username=usernme, password=psswrd, verifySsl=False)\n",
    "    return client\n",
    "\n",
    "client = getPIWebApiClient(webapi, username, password)\n",
    "urllib3.disable_warnings(urllib3.exceptions.InsecureRequestWarning)\n",
    "\n",
    "parent = \"af:\\\\\\\\pi1\\\\SLA5.\"\n",
    "sensor = [\"Generator Gross Capacity\",\n",
    "          \"Turbine Lube Oil Cooler Outlet Temperature\",\n",
    "          \"Turbine.Bearing Oil Pressure\",\n",
    "          \"Turbine.Bearing 1 Metal Temperature\",\n",
    "          \"Turbine.Bearing 1 Drain Oil Temperature\"]\n",
    "\n",
    "paths = [parent+sensor[i] for i in range(len(sensor))]\n",
    "paths"
   ]
  },
  {
   "cell_type": "code",
   "execution_count": 140,
   "id": "6857a2f8-e952-4ed5-84cd-587da22ebda1",
   "metadata": {},
   "outputs": [],
   "source": [
    "# get data and preprocessing\n",
    "def format_timestamp(utc_datetime):\n",
    "    now_timestamp = time.time()\n",
    "    offset = datetime.fromtimestamp(now_timestamp) - datetime.utcfromtimestamp(now_timestamp)\n",
    "    return utc_datetime + offset\n",
    "\n",
    "def reduce_columns(df, sensor):\n",
    "    idx_cols_selected = [i for i in range(df.shape[1]) if i==0 or i%6==0]\n",
    "    idx_col_timestamp = [1]\n",
    "    idx = idx_col_timestamp + idx_cols_selected\n",
    "    \n",
    "    df = df[df.columns[idx]]\n",
    "    df.columns = ['date'] + sensor\n",
    "\n",
    "    # format col timestamp\n",
    "    result = df.copy()\n",
    "    result['date'] = pd.to_datetime(df['date']).dt.strftime('%Y-%m-%d %H:%M:%S')\n",
    "    result['date'] = pd.to_datetime(result['date']).apply(format_timestamp)\n",
    "    return result\n",
    "\n",
    "def transform_data(df):\n",
    "    payload = {\n",
    "        'date': df['date'].strftime(\"%Y-%m-%d %H:%M:%S\"),\n",
    "        'sensors': df.index.tolist()[1:],\n",
    "        'actuals': df.tolist()[1:],\n",
    "    }\n",
    "    return payload\n",
    "    \n",
    "def etl(paths, start_time, end_time, interval):\n",
    "    # extract\n",
    "    df = client.data.get_multiple_interpolated_values(paths, start_time=start_time, end_time=end_time, interval=interval)\n",
    "    df = reduce_columns(df, sensor)\n",
    "    # transform\n",
    "    payload = transform_data(df.iloc[0])\n",
    "    return payload"
   ]
  },
  {
   "cell_type": "code",
   "execution_count": 161,
   "id": "0709fbf2-7912-4bfc-b6b2-65c253ade9cf",
   "metadata": {},
   "outputs": [
    {
     "data": {
      "text/plain": [
       "{'date': '2020-03-31 23:59:00',\n",
       " 'sensors': ['Generator Gross Capacity',\n",
       "  'Turbine Lube Oil Cooler Outlet Temperature',\n",
       "  'Turbine.Bearing Oil Pressure',\n",
       "  'Turbine.Bearing 1 Metal Temperature',\n",
       "  'Turbine.Bearing 1 Drain Oil Temperature'],\n",
       " 'actuals': [364.3693, 43.81718, 1.50464475, 78.5024948, 53.4734344]}"
      ]
     },
     "execution_count": 161,
     "metadata": {},
     "output_type": "execute_result"
    }
   ],
   "source": [
    "# example\n",
    "payload = get_data(paths, '2020-03-31 23:59:00', '2020-03-31 23:59:00', '1m')\n",
    "payload"
   ]
  },
  {
   "cell_type": "code",
   "execution_count": 171,
   "id": "05553796-f800-442f-b10b-0dbfdc990393",
   "metadata": {},
   "outputs": [
    {
     "name": "stdout",
     "output_type": "stream",
     "text": [
      "{'date': '2020-03-31 23:59:00', 'sensors': ['Generator Gross Capacity', 'Turbine Lube Oil Cooler Outlet Temperature', 'Turbine.Bearing Oil Pressure', 'Turbine.Bearing 1 Metal Temperature', 'Turbine.Bearing 1 Drain Oil Temperature'], 'actuals': [364.3693, 43.81718, 1.50464475, 78.5024948, 53.4734344]}\n",
      "\n",
      "{'date': '2020-04-01 00:00:00', 'sensors': ['Generator Gross Capacity', 'Turbine Lube Oil Cooler Outlet Temperature', 'Turbine.Bearing Oil Pressure', 'Turbine.Bearing 1 Metal Temperature', 'Turbine.Bearing 1 Drain Oil Temperature'], 'actuals': [366.922241, 43.6636047, 1.50428307, 78.58779, 53.4734344]}\n",
      "\n"
     ]
    }
   ],
   "source": [
    "# looping for each minute\n",
    "current_time = '2020-03-31 23:59:00'\n",
    "\n",
    "while True:\n",
    "    # get data\n",
    "    payload = get_data(paths, current_time, current_time, '1m')\n",
    "    print(payload)\n",
    "    print()\n",
    "    \n",
    "    # update current time\n",
    "    current_time = datetime.strptime(current_time, '%Y-%m-%d %H:%M:%S')\n",
    "    current_time = current_time + timedelta(minutes=1)\n",
    "    current_time = current_time.strftime('%Y-%m-%d %H:%M:%S')\n",
    "    \n",
    "    time.sleep(3)\n",
    "    \n",
    "    if current_time == '2020-04-01 00:01:00':\n",
    "        break"
   ]
  },
  {
   "cell_type": "markdown",
   "id": "3ddab29f-c07d-48ac-9de7-66b407d95ae0",
   "metadata": {},
   "source": [
    "## 2. Streaming to API Diagnostic"
   ]
  },
  {
   "cell_type": "code",
   "execution_count": 151,
   "id": "6531d5cb-49b4-488c-84f0-756d2e90dd7b",
   "metadata": {},
   "outputs": [],
   "source": [
    "import boto3\n",
    "import json"
   ]
  },
  {
   "cell_type": "code",
   "execution_count": 173,
   "id": "e36ea388-de18-4dff-873e-3fb04785876c",
   "metadata": {},
   "outputs": [],
   "source": [
    "kinesis = boto3.client('kinesis', region_name='ap-southeast-1')\n",
    "stream_name = \"B1-CoolingLoss\""
   ]
  },
  {
   "cell_type": "code",
   "execution_count": 175,
   "id": "ddc0f436-59ae-43ba-8a3e-d546f0bf31c3",
   "metadata": {},
   "outputs": [],
   "source": [
    "# streaming example\n",
    "# response = kinesis.put_record(StreamName=stream_name, Data=json.dumps(payload), PartitionKey='partition')\n",
    "# print(response)"
   ]
  },
  {
   "cell_type": "code",
   "execution_count": 176,
   "id": "5ade641b-622b-4b48-aca8-8445c29021f4",
   "metadata": {},
   "outputs": [
    {
     "name": "stdout",
     "output_type": "stream",
     "text": [
      "{'date': '2020-03-31 23:59:00', 'sensors': ['Generator Gross Capacity', 'Turbine Lube Oil Cooler Outlet Temperature', 'Turbine.Bearing Oil Pressure', 'Turbine.Bearing 1 Metal Temperature', 'Turbine.Bearing 1 Drain Oil Temperature'], 'actuals': [364.3693, 43.81718, 1.50464475, 78.5024948, 53.4734344]}\n",
      "{'ShardId': 'shardId-000000000000', 'SequenceNumber': '49627003833910076972687405044451296605315601052695789570', 'ResponseMetadata': {'RequestId': 'ceb80961-a6c3-4ae6-9436-e06214d4a00a', 'HTTPStatusCode': 200, 'HTTPHeaders': {'x-amzn-requestid': 'ceb80961-a6c3-4ae6-9436-e06214d4a00a', 'x-amz-id-2': '6BTceGFH7OwhLeisX9JewhMCnUSPZi+8v+r7b+OjJZYfMIwsroUdFLIUAWQSnkkOtdRwpk73TVXyB2IKSzsYbf0VwXiJduV2', 'date': 'Tue, 22 Feb 2022 13:36:03 GMT', 'content-type': 'application/x-amz-json-1.1', 'content-length': '110'}, 'RetryAttempts': 0}}\n",
      "\n",
      "{'date': '2020-04-01 00:00:00', 'sensors': ['Generator Gross Capacity', 'Turbine Lube Oil Cooler Outlet Temperature', 'Turbine.Bearing Oil Pressure', 'Turbine.Bearing 1 Metal Temperature', 'Turbine.Bearing 1 Drain Oil Temperature'], 'actuals': [366.922241, 43.6636047, 1.50428307, 78.58779, 53.4734344]}\n",
      "{'ShardId': 'shardId-000000000000', 'SequenceNumber': '49627003833910076972687405044452505531135215956748402690', 'ResponseMetadata': {'RequestId': 'e1e2c37c-12d8-0288-bb6c-2a7ba0cfe864', 'HTTPStatusCode': 200, 'HTTPHeaders': {'x-amzn-requestid': 'e1e2c37c-12d8-0288-bb6c-2a7ba0cfe864', 'x-amz-id-2': 'yKQo8bJ2FmgETzqdDlz7/Q++0yKXo7wdRiUF7Rx1j6tCGkw8bdgD5OoO2DmiJ5jA0mCsSgv5ftcOTwzzL7N9J0FjN/Gv7Iuv', 'date': 'Tue, 22 Feb 2022 13:36:07 GMT', 'content-type': 'application/x-amz-json-1.1', 'content-length': '110'}, 'RetryAttempts': 0}}\n",
      "\n"
     ]
    }
   ],
   "source": [
    "# looping for each minute\n",
    "# looping for each minute\n",
    "current_time = '2020-03-31 23:59:00'\n",
    "\n",
    "while True:\n",
    "    # get data\n",
    "    payload = get_data(paths, current_time, current_time, '1m')\n",
    "    print(payload)\n",
    "    \n",
    "    # stream data with kinesis\n",
    "    response = kinesis.put_record(StreamName=stream_name, Data=json.dumps(payload), PartitionKey='partition')\n",
    "    print(response)\n",
    "    \n",
    "    # update current time\n",
    "    current_time = datetime.strptime(current_time, '%Y-%m-%d %H:%M:%S')\n",
    "    current_time = current_time + timedelta(minutes=1)\n",
    "    current_time = current_time.strftime('%Y-%m-%d %H:%M:%S')\n",
    "    \n",
    "    time.sleep(3)\n",
    "    print()\n",
    "    \n",
    "    if current_time == '2020-04-01 00:01:00':\n",
    "        break"
   ]
  },
  {
   "cell_type": "code",
   "execution_count": null,
   "id": "a6ceef56-5c65-48a3-8a6e-57cd06ad951c",
   "metadata": {},
   "outputs": [],
   "source": []
  }
 ],
 "metadata": {
  "kernelspec": {
   "display_name": "Python 3 (ipykernel)",
   "language": "python",
   "name": "python3"
  },
  "language_info": {
   "codemirror_mode": {
    "name": "ipython",
    "version": 3
   },
   "file_extension": ".py",
   "mimetype": "text/x-python",
   "name": "python",
   "nbconvert_exporter": "python",
   "pygments_lexer": "ipython3",
   "version": "3.8.5"
  }
 },
 "nbformat": 4,
 "nbformat_minor": 5
}
