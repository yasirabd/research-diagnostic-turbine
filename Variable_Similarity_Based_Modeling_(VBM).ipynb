{
  "nbformat": 4,
  "nbformat_minor": 0,
  "metadata": {
    "colab": {
      "name": "Variable Similarity Based Modeling (VBM)",
      "provenance": [],
      "collapsed_sections": [],
      "mount_file_id": "1f3Tmjpgfex4AGyZHaFDLjyXk9Yzn68r0",
      "authorship_tag": "ABX9TyPUezXVer/7Z9l1eWruj/e+",
      "include_colab_link": true
    },
    "kernelspec": {
      "name": "python3",
      "display_name": "Python 3"
    },
    "language_info": {
      "name": "python"
    }
  },
  "cells": [
    {
      "cell_type": "markdown",
      "metadata": {
        "id": "view-in-github",
        "colab_type": "text"
      },
      "source": [
        "<a href=\"https://colab.research.google.com/github/yasirabd/research-diagnostic-turbine/blob/main/Variable_Similarity_Based_Modeling_(VBM).ipynb\" target=\"_parent\"><img src=\"https://colab.research.google.com/assets/colab-badge.svg\" alt=\"Open In Colab\"/></a>"
      ]
    },
    {
      "cell_type": "markdown",
      "source": [
        "*Author: Yasir Abdur Rohman*<br>\n",
        "**Property of PT Indonesia Power & Lab Getaran & Diagnosis Mesin Undip**\n",
        "\n",
        "---"
      ],
      "metadata": {
        "id": "iWeJcGFAFHEs"
      }
    },
    {
      "cell_type": "code",
      "metadata": {
        "id": "psVU4iPebaCi"
      },
      "source": [
        "import numpy as np\n",
        "import pandas as pd\n",
        "import matplotlib.pyplot as plt\n",
        "from numpy import dot\n",
        "from numpy.linalg import norm\n",
        "from scipy.spatial import distance"
      ],
      "execution_count": null,
      "outputs": []
    },
    {
      "cell_type": "code",
      "metadata": {
        "id": "vYzOcmt7d6nX"
      },
      "source": [
        "from google.colab import auth\n",
        "auth.authenticate_user()\n",
        "\n",
        "import gspread\n",
        "from oauth2client.client import GoogleCredentials\n",
        "\n",
        "gc = gspread.authorize(GoogleCredentials.get_application_default())\n",
        "\n",
        "worksheet = gc.open('Sample Data VBM').sheet1\n",
        "\n",
        "# get_all_values gives a list of rows.\n",
        "rows = worksheet.get_all_values()"
      ],
      "execution_count": null,
      "outputs": []
    },
    {
      "cell_type": "code",
      "metadata": {
        "colab": {
          "base_uri": "https://localhost:8080/",
          "height": 206
        },
        "id": "qSm6pusdekhL",
        "outputId": "d73462ff-9267-4b4b-deb7-ee302c79f062"
      },
      "source": [
        "data = pd.DataFrame.from_records(rows)\n",
        "data.columns = data.iloc[0]\n",
        "data = data[1:]\n",
        "\n",
        "# convert to numeric\n",
        "cols = data.columns\n",
        "data[cols] = data[cols].apply(pd.to_numeric, errors='coerce', axis=1)\n",
        "\n",
        "data.head()"
      ],
      "execution_count": null,
      "outputs": [
        {
          "output_type": "execute_result",
          "data": {
            "text/html": [
              "<div>\n",
              "<style scoped>\n",
              "    .dataframe tbody tr th:only-of-type {\n",
              "        vertical-align: middle;\n",
              "    }\n",
              "\n",
              "    .dataframe tbody tr th {\n",
              "        vertical-align: top;\n",
              "    }\n",
              "\n",
              "    .dataframe thead th {\n",
              "        text-align: right;\n",
              "    }\n",
              "</style>\n",
              "<table border=\"1\" class=\"dataframe\">\n",
              "  <thead>\n",
              "    <tr style=\"text-align: right;\">\n",
              "      <th></th>\n",
              "      <th>Tag 1</th>\n",
              "      <th>Tag 2</th>\n",
              "      <th>Tag 3</th>\n",
              "      <th>Tag 4</th>\n",
              "      <th>Tag 5</th>\n",
              "    </tr>\n",
              "  </thead>\n",
              "  <tbody>\n",
              "    <tr>\n",
              "      <th>1</th>\n",
              "      <td>420</td>\n",
              "      <td>289</td>\n",
              "      <td>2288</td>\n",
              "      <td>5062</td>\n",
              "      <td>4084</td>\n",
              "    </tr>\n",
              "    <tr>\n",
              "      <th>2</th>\n",
              "      <td>420</td>\n",
              "      <td>276</td>\n",
              "      <td>1830</td>\n",
              "      <td>5168</td>\n",
              "      <td>4140</td>\n",
              "    </tr>\n",
              "    <tr>\n",
              "      <th>3</th>\n",
              "      <td>392</td>\n",
              "      <td>261</td>\n",
              "      <td>2220</td>\n",
              "      <td>4929</td>\n",
              "      <td>4151</td>\n",
              "    </tr>\n",
              "    <tr>\n",
              "      <th>4</th>\n",
              "      <td>401</td>\n",
              "      <td>286</td>\n",
              "      <td>1990</td>\n",
              "      <td>5242</td>\n",
              "      <td>4126</td>\n",
              "    </tr>\n",
              "    <tr>\n",
              "      <th>5</th>\n",
              "      <td>381</td>\n",
              "      <td>274</td>\n",
              "      <td>1647</td>\n",
              "      <td>4833</td>\n",
              "      <td>3960</td>\n",
              "    </tr>\n",
              "  </tbody>\n",
              "</table>\n",
              "</div>"
            ],
            "text/plain": [
              "0  Tag 1  Tag 2  Tag 3  Tag 4  Tag 5\n",
              "1    420    289   2288   5062   4084\n",
              "2    420    276   1830   5168   4140\n",
              "3    392    261   2220   4929   4151\n",
              "4    401    286   1990   5242   4126\n",
              "5    381    274   1647   4833   3960"
            ]
          },
          "metadata": {},
          "execution_count": 18
        }
      ]
    },
    {
      "cell_type": "code",
      "metadata": {
        "colab": {
          "base_uri": "https://localhost:8080/"
        },
        "id": "EA0Fw7kMdlo-",
        "outputId": "cf4ca9dc-a10a-48e7-a8e7-eef3352f233d"
      },
      "source": [
        "# convert to numpy array and transpose\n",
        "state_matrix = data.values.T\n",
        "\n",
        "print(f\"Shape state matrix: {state_matrix.shape}\")\n",
        "state_matrix"
      ],
      "execution_count": null,
      "outputs": [
        {
          "output_type": "stream",
          "name": "stdout",
          "text": [
            "Shape state matrix: (5, 400)\n"
          ]
        },
        {
          "output_type": "execute_result",
          "data": {
            "text/plain": [
              "array([[ 420,  420,  392, ...,  378,  410,  388],\n",
              "       [ 289,  276,  261, ...,  265,  262,  256],\n",
              "       [2288, 1830, 2220, ..., 2086, 1766, 1692],\n",
              "       [5062, 5168, 4929, ..., 4908, 5355, 4632],\n",
              "       [4084, 4140, 4151, ..., 4045, 4110, 4183]])"
            ]
          },
          "metadata": {},
          "execution_count": 19
        }
      ]
    },
    {
      "cell_type": "code",
      "metadata": {
        "colab": {
          "base_uri": "https://localhost:8080/"
        },
        "id": "H4Sjdu4Efc7h",
        "outputId": "2ab86528-6c91-45d6-8123-78da39d28ba0"
      },
      "source": [
        "current_actual = np.array([407, 251, 1890, 5295, 4175]).T\n",
        "print(f\"Shape current actual: {current_actual.shape}\")\n",
        "current_actual"
      ],
      "execution_count": null,
      "outputs": [
        {
          "output_type": "stream",
          "name": "stdout",
          "text": [
            "Shape current actual: (5,)\n"
          ]
        },
        {
          "output_type": "execute_result",
          "data": {
            "text/plain": [
              "array([ 407,  251, 1890, 5295, 4175])"
            ]
          },
          "metadata": {},
          "execution_count": 20
        }
      ]
    },
    {
      "cell_type": "code",
      "metadata": {
        "id": "GsvRgBC3gW-h"
      },
      "source": [
        "# calculate similarity\n",
        "def cosine_similarity(vector1, vector2):\n",
        "    cos_sim = dot(vector1, vector2)/(norm(vector1)*norm(vector2))\n",
        "    return cos_sim\n",
        "\n",
        "def euclidean_distance(vector1,vector2):\n",
        "  return np.sqrt(sum(pow(a-b,2) for a, b in zip(vector1, vector2)))\n",
        "\n",
        "def scipy_distance(vector1, vector2, dist='euclidean'):\n",
        "    if dist == 'euclidean':\n",
        "        return distance.euclidean(vector1, vector2)\n",
        "    elif dist == 'braycurtis':\n",
        "        return distance.braycurtis(vector1, vector2)\n",
        "    elif dist == 'correlation':\n",
        "        return distance.correlation(vector1, vector2)\n",
        "    elif dist == 'canberra':\n",
        "        return distance.canberra(vector1, vector2)\n",
        "    elif dist == 'chebyshev':\n",
        "        return distance.chebyshev(vector1, vector2)\n",
        "    elif dist == 'cityblock':\n",
        "        return distance.cityblock(vector1, vector2)\n",
        "    elif dist == 'minkowski':\n",
        "        return distance.minkowski(vector1, vector2)\n",
        "    elif dist == 'sqeuclidean':\n",
        "        return distance.sqeuclidean(vector1, vector2)\n",
        "    elif dist == 'cosine':\n",
        "        return distance.cosine(vector1, vector2)"
      ],
      "execution_count": null,
      "outputs": []
    },
    {
      "cell_type": "code",
      "metadata": {
        "colab": {
          "base_uri": "https://localhost:8080/"
        },
        "id": "wVjZ6797hcXE",
        "outputId": "64141d60-3702-4675-cc27-a59ab8c00cc2"
      },
      "source": [
        "# example\n",
        "a = np.array([407, 251, 1890, 5295, 4175])\n",
        "b = np.array([370, 255, 1620, 4775, 4231])\n",
        "\n",
        "print(f\"Cosine similarity: {cosine_similarity(a,b)}\")\n",
        "print(f\"Euclidean similarity: {euclidean_distance(a,b)}\")\n",
        "print(f\"Braycurtis similarity: {scipy_distance(a,b, dist='braycurtis')}\")\n",
        "print(f\"Correlation similarity: {scipy_distance(a,b, dist='correlation')}\")\n",
        "print(f\"Canberra similarity: {scipy_distance(a,b, dist='canberra')}\")\n",
        "print(f\"Chebyshev similarity: {scipy_distance(a,b, dist='chebyshev')}\")\n",
        "print(f\"Cityblock similarity: {scipy_distance(a,b, dist='cityblock')}\")\n",
        "print(f\"Minkowski similarity: {scipy_distance(a,b, dist='minkowski')}\")\n",
        "print(f\"Squared Euclidean similarity: {scipy_distance(a,b, dist='sqeuclidean')}\")\n",
        "print(f\"Cosine similarity: {scipy_distance(a,b, dist='cosine')}\")"
      ],
      "execution_count": null,
      "outputs": [
        {
          "output_type": "stream",
          "name": "stdout",
          "text": [
            "Cosine similarity: 0.9981632316930458\n",
            "Euclidean similarity: 589.7635119266026\n",
            "Braycurtis similarity: 0.03811938630796338\n",
            "Correlation similarity: 0.004387840336861126\n",
            "Canberra similarity: 0.1907477013308671\n",
            "Chebyshev similarity: 520\n",
            "Cityblock similarity: 887\n",
            "Minkowski similarity: 589.7635119266026\n",
            "Squared Euclidean similarity: 347821.0\n",
            "Cosine similarity: 0.0018367683069543395\n"
          ]
        }
      ]
    },
    {
      "cell_type": "markdown",
      "metadata": {
        "id": "FV_9LcUxl7Fg"
      },
      "source": [
        "The most similar result with an example from GE VBM similarity is `Cosine Similarity`."
      ]
    },
    {
      "cell_type": "code",
      "metadata": {
        "id": "XCYX6pvJhWhS",
        "colab": {
          "base_uri": "https://localhost:8080/"
        },
        "outputId": "f29ebef7-0b73-4676-a822-e2a22a891035"
      },
      "source": [
        "# example 2\n",
        "a = np.array([407, 251, 1890, 5295, 4175])\n",
        "b = np.array([370, 255, 1620, 4775, 4231])\n",
        "c = np.array([371, 255, 1623, 4774, 4228])\n",
        "d = np.array([409, 266, 2333, 5090, 4002])\n",
        "e = np.array([407, 251, 1890, 5295, 4175])\n",
        "\n",
        "print(f\"Cosine similarity a and b: {scipy_distance(a,b, dist='cosine')}\")\n",
        "print(f\"Cosine similarity a and c: {scipy_distance(a,c, dist='cosine')}\")\n",
        "print(f\"Cosine similarity a and d: {scipy_distance(a,d, dist='cosine')}\")\n",
        "print(f\"Cosine similarity a and e: {scipy_distance(a,e, dist='cosine')}\")\n",
        "print(f\"Bray-Curtis similarity a and e: {scipy_distance(a,e, dist='braycurtis')}\")\n",
        "print(f\"Bray-Curtis similarity a and b: {1-scipy_distance(a,b, dist='braycurtis')}\")\n",
        "\n",
        "print()\n",
        "\n",
        "# with highest score 1\n",
        "print(f\"Cosine similarity a and b: {cosine_similarity(a,b)}\")\n",
        "print(f\"Cosine similarity a and c: {cosine_similarity(a,c)}\")\n",
        "print(f\"Cosine similarity a and d: {cosine_similarity(a,d)}\")\n",
        "print(f\"Cosine similarity a and e: {cosine_similarity(a,e)}\")\n",
        "print(f\"Correlation similarity: {scipy_distance(a,e, dist='correlation')}\")\n",
        "print(f\"Canberra similarity: {scipy_distance(a,e, dist='canberra')}\")\n"
      ],
      "execution_count": null,
      "outputs": [
        {
          "output_type": "stream",
          "name": "stdout",
          "text": [
            "Cosine similarity a and b: 0.0018367683069543395\n",
            "Cosine similarity a and c: 0.0018098931815617725\n",
            "Cosine similarity a and d: 0.0026239179578928518\n",
            "Cosine similarity a and e: 0.0\n",
            "Bray-Curtis similarity a and e: 0.0\n",
            "Bray-Curtis similarity a and b: 0.9618806136920366\n",
            "\n",
            "Cosine similarity a and b: 0.9981632316930458\n",
            "Cosine similarity a and c: 0.9981901068184382\n",
            "Cosine similarity a and d: 0.9973760820421069\n",
            "Cosine similarity a and e: 1.0\n",
            "Correlation similarity: 0.0\n",
            "Canberra similarity: 0.0\n"
          ]
        }
      ]
    },
    {
      "cell_type": "code",
      "metadata": {
        "colab": {
          "base_uri": "https://localhost:8080/"
        },
        "id": "uN3I_AKN0bVS",
        "outputId": "7126d46d-4fc2-4cb8-b5ec-0d6af6a9c023"
      },
      "source": [
        "current_actual"
      ],
      "execution_count": null,
      "outputs": [
        {
          "output_type": "execute_result",
          "data": {
            "text/plain": [
              "array([ 407,  251, 1890, 5295, 4175])"
            ]
          },
          "metadata": {},
          "execution_count": 24
        }
      ]
    },
    {
      "cell_type": "code",
      "metadata": {
        "id": "O3ggxrbcoSI-"
      },
      "source": [
        "# calculate similarity\n",
        "sim_vec = []\n",
        "\n",
        "for i in range(state_matrix.shape[1]):\n",
        "    sim = 1 - scipy_distance(current_actual, state_matrix[:, i], dist='canberra')\n",
        "    sim_vec.append(sim)"
      ],
      "execution_count": null,
      "outputs": []
    },
    {
      "cell_type": "code",
      "metadata": {
        "colab": {
          "base_uri": "https://localhost:8080/"
        },
        "id": "kIa_K6edyzKP",
        "outputId": "4df3df4d-f930-4571-c918-e7207256eed7"
      },
      "source": [
        "top10 = np.sort(np.array(sim_vec).argsort()[::-1][:10])\n",
        "sim_vec10 = np.array(sim_vec)[top10]\n",
        "\n",
        "print(top10)\n",
        "print(sim_vec10)"
      ],
      "execution_count": null,
      "outputs": [
        {
          "output_type": "stream",
          "name": "stdout",
          "text": [
            "[ 31  58  88 149 160 168 228 245 326 368]\n",
            "[0.93760353 0.94298773 0.95397765 0.95366041 0.95034228 0.93906428\n",
            " 0.94808046 0.9504988  0.9518535  0.94672577]\n"
          ]
        }
      ]
    },
    {
      "cell_type": "code",
      "metadata": {
        "colab": {
          "base_uri": "https://localhost:8080/"
        },
        "id": "u6rtXIhwzHX1",
        "outputId": "76750927-edc2-4892-8cf2-0a4eedf4f5d8"
      },
      "source": [
        "dynamic_matrix = state_matrix[:, top10]\n",
        "dynamic_matrix"
      ],
      "execution_count": null,
      "outputs": [
        {
          "output_type": "execute_result",
          "data": {
            "text/plain": [
              "array([[ 409,  402,  420,  392,  405,  412,  408,  410,  392,  412],\n",
              "       [ 258,  249,  256,  254,  253,  241,  265,  247,  254,  253],\n",
              "       [1956, 1989, 1941, 1867, 1833, 1971, 1833, 1991, 1910, 1900],\n",
              "       [5245, 5271, 5317, 5153, 5011, 5187, 5292, 5357, 5355, 4901],\n",
              "       [3977, 4019, 4133, 4191, 4172, 4202, 4109, 4225, 4281, 4159]])"
            ]
          },
          "metadata": {},
          "execution_count": 27
        }
      ]
    },
    {
      "cell_type": "code",
      "metadata": {
        "colab": {
          "base_uri": "https://localhost:8080/"
        },
        "id": "GI4SFuat0NNG",
        "outputId": "a281ae88-e834-4e93-ddb7-7b4993f44a4f"
      },
      "source": [
        "# calculate weight\n",
        "weight = np.array([s/np.sum(sim_vec10) for s in sim_vec10])\n",
        "weight, np.sum(weight)"
      ],
      "execution_count": null,
      "outputs": [
        {
          "output_type": "execute_result",
          "data": {
            "text/plain": [
              "(array([0.09895766, 0.09952593, 0.10068584, 0.10065236, 0.10030215,\n",
              "        0.09911184, 0.10006343, 0.10031867, 0.10046165, 0.09992045]), 1.0)"
            ]
          },
          "metadata": {},
          "execution_count": 28
        }
      ]
    },
    {
      "cell_type": "code",
      "metadata": {
        "colab": {
          "base_uri": "https://localhost:8080/"
        },
        "id": "keD763DD0k7d",
        "outputId": "312e8178-430f-4c88-f1b0-b40691b5660e"
      },
      "source": [
        "# estimate value\n",
        "estimate_value = np.dot(dynamic_matrix, weight.T)\n",
        "\n",
        "print(current_actual)\n",
        "print(estimate_value)"
      ],
      "execution_count": null,
      "outputs": [
        {
          "output_type": "stream",
          "name": "stdout",
          "text": [
            "[ 407  251 1890 5295 4175]\n",
            "[ 406.18806805  253.00936326 1918.95209054 5208.97466523 4147.09903767]\n"
          ]
        }
      ]
    },
    {
      "cell_type": "code",
      "metadata": {
        "colab": {
          "base_uri": "https://localhost:8080/"
        },
        "id": "abzB7zEl1ci5",
        "outputId": "c2d0a8a1-b43c-4d97-debf-dd370328f5f9"
      },
      "source": [
        "from sklearn.metrics import mean_squared_error\n",
        "\n",
        "print(f\"MSE: {mean_squared_error(current_actual, estimate_value)}\")\n",
        "print(f\"RMSE: {np.sqrt(mean_squared_error(current_actual, estimate_value))}\")"
      ],
      "execution_count": null,
      "outputs": [
        {
          "output_type": "stream",
          "name": "stdout",
          "text": [
            "MSE: 1804.3484482823874\n",
            "RMSE: 42.47762291233335\n"
          ]
        }
      ]
    },
    {
      "cell_type": "code",
      "metadata": {
        "id": "Lg6DS1TX4K2V"
      },
      "source": [
        "smart_signal_estimate = np.array([406, 253, 1950, 5315, 4164])"
      ],
      "execution_count": null,
      "outputs": []
    },
    {
      "cell_type": "code",
      "metadata": {
        "colab": {
          "base_uri": "https://localhost:8080/"
        },
        "id": "tHHU9oy_3RhC",
        "outputId": "519898e7-8a9f-4fb1-e7ed-4f2ed5d13f3d"
      },
      "source": [
        "for i in range(len(current_actual)):\n",
        "    sel1 = np.abs(current_actual[i]-estimate_value[i]) \n",
        "    sel2 = np.abs(current_actual[i]-smart_signal_estimate[i])\n",
        "    # print(f\"Actual: {current_actual[i]}; Esimate: {estimate_value[i]}\")\n",
        "    print(sel1, sel2)"
      ],
      "execution_count": null,
      "outputs": [
        {
          "output_type": "stream",
          "name": "stdout",
          "text": [
            "0.8119319465114359 1\n",
            "2.0093632552983536 2\n",
            "28.95209053797339 60\n",
            "86.02533476591634 20\n",
            "27.90096233335771 11\n"
          ]
        }
      ]
    },
    {
      "cell_type": "code",
      "metadata": {
        "id": "BAvdV9uk3uIe"
      },
      "source": [
        ""
      ],
      "execution_count": null,
      "outputs": []
    }
  ]
}