{
  "nbformat": 4,
  "nbformat_minor": 0,
  "metadata": {
    "colab": {
      "name": "Diagnostics - Steam Turbine with VBM",
      "provenance": [],
      "collapsed_sections": [],
      "toc_visible": true,
      "mount_file_id": "1fWT-gAgirgRcqMgem3WK7h4ae8m7zNqq",
      "authorship_tag": "ABX9TyOTwejiMxBRk0PWJFzBRqGT",
      "include_colab_link": true
    },
    "kernelspec": {
      "name": "python3",
      "display_name": "Python 3"
    },
    "language_info": {
      "name": "python"
    }
  },
  "cells": [
    {
      "cell_type": "markdown",
      "metadata": {
        "id": "view-in-github",
        "colab_type": "text"
      },
      "source": [
        "<a href=\"https://colab.research.google.com/github/yasirabd/research-diagnostic-turbine/blob/main/Diagnostics_Steam_Turbine_with_VBM.ipynb\" target=\"_parent\"><img src=\"https://colab.research.google.com/assets/colab-badge.svg\" alt=\"Open In Colab\"/></a>"
      ]
    },
    {
      "cell_type": "markdown",
      "source": [
        "*Author: Yasir Abdur Rohman*<br>\n",
        "**Property of PT Indonesia Power & Lab Getaran & Diagnosis Mesin Undip**\n",
        "\n",
        "---"
      ],
      "metadata": {
        "id": "U2JDr43ZFg9m"
      }
    },
    {
      "cell_type": "code",
      "metadata": {
        "id": "PQHahITmZSq4"
      },
      "source": [
        "import pandas as pd\n",
        "import numpy as np\n",
        "import matplotlib.pyplot as plt\n",
        "\n",
        "from scipy.spatial import distance\n",
        "\n",
        "from sklearn.metrics import mean_squared_error\n",
        "\n",
        "import plotly.express as px\n",
        "import plotly.graph_objs as go"
      ],
      "execution_count": null,
      "outputs": []
    },
    {
      "cell_type": "code",
      "metadata": {
        "id": "AbUEpOslZsFJ"
      },
      "source": [
        "# load dataset\n",
        "\n",
        "# sla 18\n",
        "df = pd.read_excel(\"/content/drive/MyDrive/Turbine Bearing/Data/Data_SLA_Unit_1_2018.xlsx\")"
      ],
      "execution_count": null,
      "outputs": []
    },
    {
      "cell_type": "code",
      "metadata": {
        "colab": {
          "base_uri": "https://localhost:8080/"
        },
        "id": "1yKQl6fdZzz7",
        "outputId": "d80225ad-855f-4718-e61a-e5f3afefa2a1"
      },
      "source": [
        "# columns in SLA 2018\n",
        "list(df)"
      ],
      "execution_count": null,
      "outputs": [
        {
          "output_type": "execute_result",
          "data": {
            "text/plain": [
              "['Tanggal',\n",
              " 'Generator Output (MW)',\n",
              " 'Generator VAR (MVAR)',\n",
              " 'Turb Bearing Vib 1 (uM)',\n",
              " 'Turb Bearing Vib 2 (uM)',\n",
              " 'Turb Bearing Vib 3 (uM)',\n",
              " 'Turb Bearing Vib 4 (uM)',\n",
              " 'Turb Bearing Vib 5 (uM)',\n",
              " 'Turb Bearing Vib 6 (uM)',\n",
              " 'Gen Bearing Vib 7 (uM)',\n",
              " 'Gen Bearing Vib 8 (uM)',\n",
              " 'Gen Bearing Vib 9 (uM)',\n",
              " 'Lube Oil Inlet Cooler Temp Ct (Deg)',\n",
              " 'Lube Oil Outlet Cooler Temp Ct (Deg)',\n",
              " 'No 1 Bearing Oil Drain Temp (Deg)',\n",
              " 'No 2 Bearing Oil Drain Temp (Deg)',\n",
              " 'No 3 Bearing Oil Drain Temp (Deg)',\n",
              " 'No 4 Bearing Oil Drain Temp (Deg)',\n",
              " 'No 5 Bearing Oil Drain Temp (Deg)',\n",
              " 'No 6 Bearing Oil Drain Temp (Deg)',\n",
              " 'No 7 Bearing Oil Drain Temp (Deg)',\n",
              " 'No 8 Bearing Oil Drain Temp (Deg)',\n",
              " 'No 9 Bearing Oil Drain Temp (Deg)',\n",
              " 'Thrust Bearing Oil Drain Temp FR (Deg)',\n",
              " 'Thrust Bearing Oil Drain Temp RR (Deg)',\n",
              " 'No 1 Turb Bearing Metal Temp A ( Deg )',\n",
              " 'No 1 Turb Bearing Metal Temp B ( Deg )',\n",
              " 'No 2 Turb Bearing Metal Temp A ( Deg )',\n",
              " 'No 2 Turb Bearing Metal Temp B ( Deg )',\n",
              " 'No 3 Turb Bearing Metal Temp  ( Deg )',\n",
              " 'No 4 Turb Bearing Metal Temp  ( Deg )',\n",
              " 'No 5 Turb Bearing Metal Temp  ( Deg )',\n",
              " 'No 6 Turb Bearing Metal Temp  ( Deg )',\n",
              " 'No 7 Turb Bearing Metal Temp  ( Deg )',\n",
              " 'No 8 Turb Bearing Metal Temp  ( Deg )',\n",
              " 'No 9 Turb Bearing Metal Temp  ( Deg )',\n",
              " 'Thrust Bearing Metal Temp  Front( Deg )',\n",
              " 'Thrust Bearing Metal Temp  Rear( Deg )',\n",
              " 'Steam Press In HP Trb A (kg/cm2)',\n",
              " 'Steam Press In HP Trb B (kg/cm2)',\n",
              " 'Steam Pressure First Stage HP Trb (Kg/cm2)',\n",
              " 'Steam Press Out HP Trb  (kg/cm2)',\n",
              " 'Steam Press In IP Trb A  (kg/cm2)',\n",
              " 'Steam Press In IP Trb B  (kg/cm2)',\n",
              " 'Steam Press Out IP Trb B  (kg/cm2)',\n",
              " 'Rotation']"
            ]
          },
          "metadata": {},
          "execution_count": 5
        }
      ]
    },
    {
      "cell_type": "markdown",
      "metadata": {
        "id": "ywHQYgpvbYU8"
      },
      "source": [
        "# ST Journal Bearing 1 - Cooling Loss\n",
        "\n",
        "Description:\n",
        "- ST Journal Bearing #1 - Cooling Loss.  This fault indicates an abnormal change in the cooling of the supply oil to the bearings.  Primary indicators are: Journal Bearing Oil Outlet Temperature (Oil Return) is high; and Bearing Metal Temperature is high.   Priority 4 (lowest) is triggered when either Lube Oil Outlet Temperature is high or Bearing Metal Temperature is high.  The priority escalates depending on the severity of the change, and the number of sensors.  This fault triggers  Priority 2, 3 & 4.\n",
        "\n",
        "Input Tags:\n",
        "- LUBE_OIL_COOLER_OIL_OUTLET_TEMP\n",
        "- GROSS_LOAD\n",
        "- LUBE_OIL_COOLER_OIL_OUTLET_PRESS\n",
        "- BRG_1_MTL_TEMP_1 \n",
        "- AMBIENT_TEMP\n",
        "- BRG_1_MTL_TEMP_2 \n",
        "- BRG_1_MTL_TEMP_4 \n",
        "- BRG_1_MTL_TEMP_3\n",
        "- BRG_1_OIL_DRAIN_TEMP"
      ]
    },
    {
      "cell_type": "code",
      "metadata": {
        "id": "UnWIFi1XbI_v"
      },
      "source": [
        "selected_cols = ['Generator Output (MW)', # gross load\n",
        "                 'Lube Oil Outlet Cooler Temp Ct (Deg)',\n",
        "                 'No 1 Bearing Oil Drain Temp (Deg)', \n",
        "                 'No 1 Turb Bearing Metal Temp A ( Deg )',\n",
        "                 'No 1 Turb Bearing Metal Temp B ( Deg )',]"
      ],
      "execution_count": null,
      "outputs": []
    },
    {
      "cell_type": "markdown",
      "metadata": {
        "id": "54RX-XyEqMzv"
      },
      "source": [
        "### VBM"
      ]
    },
    {
      "cell_type": "code",
      "metadata": {
        "id": "woaibUtBqDNT"
      },
      "source": [
        "def scipy_distance(vector1, vector2, dist='euclidean'):\n",
        "    if dist == 'euclidean':\n",
        "        return distance.euclidean(vector1, vector2)\n",
        "    elif dist == 'braycurtis':\n",
        "        return distance.braycurtis(vector1, vector2)\n",
        "    elif dist == 'correlation':\n",
        "        return distance.correlation(vector1, vector2)\n",
        "    elif dist == 'canberra':\n",
        "        return distance.canberra(vector1, vector2)\n",
        "    elif dist == 'chebyshev':\n",
        "        return distance.chebyshev(vector1, vector2)\n",
        "    elif dist == 'cityblock':\n",
        "        return distance.cityblock(vector1, vector2)\n",
        "    elif dist == 'minkowski':\n",
        "        return distance.minkowski(vector1, vector2)\n",
        "    elif dist == 'sqeuclidean':\n",
        "        return distance.sqeuclidean(vector1, vector2)\n",
        "    elif dist == 'cosine':\n",
        "        return distance.cosine(vector1, vector2)"
      ],
      "execution_count": null,
      "outputs": []
    },
    {
      "cell_type": "code",
      "metadata": {
        "colab": {
          "base_uri": "https://localhost:8080/",
          "height": 223
        },
        "id": "yYiRKk5gqRrE",
        "outputId": "c54481cf-b35c-4f1b-eb8d-9cf0e95e69f5"
      },
      "source": [
        "df = df[selected_cols]\n",
        "df.head()"
      ],
      "execution_count": null,
      "outputs": [
        {
          "output_type": "execute_result",
          "data": {
            "text/html": [
              "<div>\n",
              "<style scoped>\n",
              "    .dataframe tbody tr th:only-of-type {\n",
              "        vertical-align: middle;\n",
              "    }\n",
              "\n",
              "    .dataframe tbody tr th {\n",
              "        vertical-align: top;\n",
              "    }\n",
              "\n",
              "    .dataframe thead th {\n",
              "        text-align: right;\n",
              "    }\n",
              "</style>\n",
              "<table border=\"1\" class=\"dataframe\">\n",
              "  <thead>\n",
              "    <tr style=\"text-align: right;\">\n",
              "      <th></th>\n",
              "      <th>Generator Output (MW)</th>\n",
              "      <th>Lube Oil Outlet Cooler Temp Ct (Deg)</th>\n",
              "      <th>No 1 Bearing Oil Drain Temp (Deg)</th>\n",
              "      <th>No 1 Turb Bearing Metal Temp A ( Deg )</th>\n",
              "      <th>No 1 Turb Bearing Metal Temp B ( Deg )</th>\n",
              "    </tr>\n",
              "  </thead>\n",
              "  <tbody>\n",
              "    <tr>\n",
              "      <th>0</th>\n",
              "      <td>250.161911</td>\n",
              "      <td>40.001122</td>\n",
              "      <td>48.553509</td>\n",
              "      <td>90.566895</td>\n",
              "      <td>62.404171</td>\n",
              "    </tr>\n",
              "    <tr>\n",
              "      <th>1</th>\n",
              "      <td>256.526062</td>\n",
              "      <td>39.968334</td>\n",
              "      <td>48.509892</td>\n",
              "      <td>90.681160</td>\n",
              "      <td>62.096100</td>\n",
              "    </tr>\n",
              "    <tr>\n",
              "      <th>2</th>\n",
              "      <td>252.822952</td>\n",
              "      <td>39.993980</td>\n",
              "      <td>48.545334</td>\n",
              "      <td>90.477066</td>\n",
              "      <td>62.382019</td>\n",
              "    </tr>\n",
              "    <tr>\n",
              "      <th>3</th>\n",
              "      <td>255.816757</td>\n",
              "      <td>39.974266</td>\n",
              "      <td>48.539497</td>\n",
              "      <td>90.650681</td>\n",
              "      <td>62.200996</td>\n",
              "    </tr>\n",
              "    <tr>\n",
              "      <th>4</th>\n",
              "      <td>246.595398</td>\n",
              "      <td>39.990200</td>\n",
              "      <td>48.549404</td>\n",
              "      <td>90.468384</td>\n",
              "      <td>62.456760</td>\n",
              "    </tr>\n",
              "  </tbody>\n",
              "</table>\n",
              "</div>"
            ],
            "text/plain": [
              "   Generator Output (MW)  ...  No 1 Turb Bearing Metal Temp B ( Deg )\n",
              "0             250.161911  ...                               62.404171\n",
              "1             256.526062  ...                               62.096100\n",
              "2             252.822952  ...                               62.382019\n",
              "3             255.816757  ...                               62.200996\n",
              "4             246.595398  ...                               62.456760\n",
              "\n",
              "[5 rows x 5 columns]"
            ]
          },
          "metadata": {},
          "execution_count": 51
        }
      ]
    },
    {
      "cell_type": "code",
      "metadata": {
        "colab": {
          "base_uri": "https://localhost:8080/"
        },
        "id": "lK79dSe2qcrm",
        "outputId": "cefb12ed-d4ba-41df-d61a-deb414276593"
      },
      "source": [
        "# data shape\n",
        "df.shape"
      ],
      "execution_count": null,
      "outputs": [
        {
          "output_type": "execute_result",
          "data": {
            "text/plain": [
              "(52560, 5)"
            ]
          },
          "metadata": {},
          "execution_count": 52
        }
      ]
    },
    {
      "cell_type": "code",
      "metadata": {
        "colab": {
          "base_uri": "https://localhost:8080/"
        },
        "id": "5Sq1YoyXqfze",
        "outputId": "6f83e50f-79d4-4ba7-bdfe-f97ff838f9dc"
      },
      "source": [
        "# define current actual data\n",
        "current_actual = df.iloc[399,:].values\n",
        "\n",
        "current_actual"
      ],
      "execution_count": null,
      "outputs": [
        {
          "output_type": "execute_result",
          "data": {
            "text/plain": [
              "array([393.27600098,  39.96697235,  48.60442352,  90.25898743,\n",
              "        64.29458618])"
            ]
          },
          "metadata": {},
          "execution_count": 53
        }
      ]
    },
    {
      "cell_type": "code",
      "metadata": {
        "colab": {
          "base_uri": "https://localhost:8080/"
        },
        "id": "_WCp4Yt0s-BN",
        "outputId": "125b3327-743f-4aa0-b686-bd9d59ae773f"
      },
      "source": [
        "# create state matrix\n",
        "state_matrix = df.iloc[:400,:].values.T\n",
        "state_matrix.shape"
      ],
      "execution_count": null,
      "outputs": [
        {
          "output_type": "execute_result",
          "data": {
            "text/plain": [
              "(5, 400)"
            ]
          },
          "metadata": {},
          "execution_count": 54
        }
      ]
    },
    {
      "cell_type": "code",
      "metadata": {
        "id": "qLYUyP8Kqr96"
      },
      "source": [
        "# calculate similarity\n",
        "sim_vec = []\n",
        "\n",
        "for i in range(state_matrix.shape[1]):\n",
        "    sim = 1 - scipy_distance(current_actual, state_matrix[:, i], dist='canberra')\n",
        "    sim_vec.append(sim)"
      ],
      "execution_count": null,
      "outputs": []
    },
    {
      "cell_type": "code",
      "metadata": {
        "colab": {
          "base_uri": "https://localhost:8080/"
        },
        "id": "zbUUeVeRrZV4",
        "outputId": "7fd9cac1-b0e6-4578-84f1-6652da1409cb"
      },
      "source": [
        "# select best 10\n",
        "top10 = np.sort(np.array(sim_vec).argsort()[::-1][:10])\n",
        "sim_vec10 = np.array(sim_vec)[top10]\n",
        "\n",
        "sim_vec10"
      ],
      "execution_count": null,
      "outputs": [
        {
          "output_type": "execute_result",
          "data": {
            "text/plain": [
              "array([0.99700086, 0.99776908, 0.99687907, 0.9969182 , 0.99678409,\n",
              "       0.99792758, 0.99749234, 0.99776484, 0.99673775, 1.        ])"
            ]
          },
          "metadata": {},
          "execution_count": 56
        }
      ]
    },
    {
      "cell_type": "code",
      "metadata": {
        "colab": {
          "base_uri": "https://localhost:8080/"
        },
        "id": "pE58_F8ysP0g",
        "outputId": "b98e575b-2779-4f9c-c261-dbd66fbfbbed"
      },
      "source": [
        "# create dynamic matrix\n",
        "dynamic_matrix = state_matrix[:, top10]\n",
        "dynamic_matrix"
      ],
      "execution_count": null,
      "outputs": [
        {
          "output_type": "execute_result",
          "data": {
            "text/plain": [
              "array([[393.48770142, 394.209198  , 394.59939575, 393.64001465,\n",
              "        394.11276245, 393.10601807, 392.98602295, 393.16253662,\n",
              "        392.50515747, 393.27600098],\n",
              "       [ 40.02999115,  39.99246216,  39.97238159,  39.97789001,\n",
              "         39.9695015 ,  39.98636627,  39.98130035,  40.01943588,\n",
              "         40.02780151,  39.96697235],\n",
              "       [ 48.69527435,  48.65802383,  48.66394043,  48.71835709,\n",
              "         48.68651581,  48.64979172,  48.67524719,  48.71405792,\n",
              "         48.66070938,  48.60442352],\n",
              "       [ 90.26540375,  90.23300171,  90.13049316,  90.18348694,\n",
              "         90.24081421,  90.2822113 ,  90.2742157 ,  90.23690796,\n",
              "         90.28652954,  90.25898743],\n",
              "       [ 64.16958618,  64.29046631,  64.28823853,  64.17978668,\n",
              "         64.1434021 ,  64.16374207,  64.14723206,  64.2706604 ,\n",
              "         64.19313049,  64.29458618]])"
            ]
          },
          "metadata": {},
          "execution_count": 57
        }
      ]
    },
    {
      "cell_type": "code",
      "metadata": {
        "colab": {
          "base_uri": "https://localhost:8080/"
        },
        "id": "iWRvHyoPsVe4",
        "outputId": "05a7d2cd-e0b0-463d-bead-7ff958552f63"
      },
      "source": [
        "# calculate weight\n",
        "weight = np.array([s/np.sum(sim_vec10) for s in sim_vec10])\n",
        "weight"
      ],
      "execution_count": null,
      "outputs": [
        {
          "output_type": "execute_result",
          "data": {
            "text/plain": [
              "array([0.09994722, 0.10002423, 0.09993501, 0.09993893, 0.09992549,\n",
              "       0.10004012, 0.09999649, 0.1000238 , 0.09992084, 0.10024787])"
            ]
          },
          "metadata": {},
          "execution_count": 58
        }
      ]
    },
    {
      "cell_type": "code",
      "metadata": {
        "colab": {
          "base_uri": "https://localhost:8080/"
        },
        "id": "DsEfcIo8saVl",
        "outputId": "f6ee72d8-fb34-4db8-e151-0ce55be778b7"
      },
      "source": [
        "# estimate value\n",
        "estimate_value = np.dot(dynamic_matrix, weight.T)\n",
        "\n",
        "estimate_value"
      ],
      "execution_count": null,
      "outputs": [
        {
          "output_type": "execute_result",
          "data": {
            "text/plain": [
              "array([393.5083742 ,  39.99240352,  48.67261341,  90.23921669,\n",
              "        64.21411102])"
            ]
          },
          "metadata": {},
          "execution_count": 59
        }
      ]
    },
    {
      "cell_type": "code",
      "metadata": {
        "colab": {
          "base_uri": "https://localhost:8080/"
        },
        "id": "aN49__tMshzk",
        "outputId": "3147c028-e5cc-42a6-c83e-d786009b935d"
      },
      "source": [
        "# actual\n",
        "actual = df.iloc[400,:].values\n",
        "\n",
        "actual"
      ],
      "execution_count": null,
      "outputs": [
        {
          "output_type": "execute_result",
          "data": {
            "text/plain": [
              "array([399.72497559,  39.98599625,  48.68819046,  90.43733215,\n",
              "        64.04458618])"
            ]
          },
          "metadata": {},
          "execution_count": 60
        }
      ]
    },
    {
      "cell_type": "code",
      "metadata": {
        "colab": {
          "base_uri": "https://localhost:8080/"
        },
        "id": "0SPL-v_Isusx",
        "outputId": "6d223a07-4256-49e4-e61b-9145804ceb25"
      },
      "source": [
        "print(f\"MSE: {mean_squared_error(actual, estimate_value)}\")\n",
        "print(f\"RMSE: {np.sqrt(mean_squared_error(actual, estimate_value))}\")"
      ],
      "execution_count": null,
      "outputs": [
        {
          "output_type": "stream",
          "name": "stdout",
          "text": [
            "MSE: 7.742880979886797\n",
            "RMSE: 2.782603273894214\n"
          ]
        }
      ]
    },
    {
      "cell_type": "code",
      "metadata": {
        "colab": {
          "base_uri": "https://localhost:8080/",
          "height": 542
        },
        "id": "2uBabLU3s4mT",
        "outputId": "58abb6eb-7f90-421b-f26c-7d11fb3b0b13"
      },
      "source": [
        "# plot y test and y pred\n",
        "fig = go.Figure()\n",
        "\n",
        "fig.add_trace(go.Scatter(x=[i for i in range(10)], y=actual,\n",
        "                         line=dict(color='royalblue'),\n",
        "                         name='actual value'))\n",
        "fig.add_trace(go.Scatter(x=[i for i in range(10)], y=estimate_value,\n",
        "                         line=dict(color='orange'),\n",
        "                         name='estimate value'))\n",
        "fig.show()"
      ],
      "execution_count": null,
      "outputs": [
        {
          "output_type": "display_data",
          "data": {
            "text/html": [
              "<html>\n",
              "<head><meta charset=\"utf-8\" /></head>\n",
              "<body>\n",
              "    <div>\n",
              "            <script src=\"https://cdnjs.cloudflare.com/ajax/libs/mathjax/2.7.5/MathJax.js?config=TeX-AMS-MML_SVG\"></script><script type=\"text/javascript\">if (window.MathJax) {MathJax.Hub.Config({SVG: {font: \"STIX-Web\"}});}</script>\n",
              "                <script type=\"text/javascript\">window.PlotlyConfig = {MathJaxConfig: 'local'};</script>\n",
              "        <script src=\"https://cdn.plot.ly/plotly-latest.min.js\"></script>    \n",
              "            <div id=\"14ded01e-d73c-4d95-977a-62c823d2a832\" class=\"plotly-graph-div\" style=\"height:525px; width:100%;\"></div>\n",
              "            <script type=\"text/javascript\">\n",
              "                \n",
              "                    window.PLOTLYENV=window.PLOTLYENV || {};\n",
              "                    \n",
              "                if (document.getElementById(\"14ded01e-d73c-4d95-977a-62c823d2a832\")) {\n",
              "                    Plotly.newPlot(\n",
              "                        '14ded01e-d73c-4d95-977a-62c823d2a832',\n",
              "                        [{\"line\": {\"color\": \"royalblue\"}, \"name\": \"actual value\", \"type\": \"scatter\", \"x\": [0, 1, 2, 3, 4, 5, 6, 7, 8, 9], \"y\": [399.7249755859375, 39.98599624633789, 48.68819046020508, 90.43733215332031, 64.04458618164062]}, {\"line\": {\"color\": \"orange\"}, \"name\": \"estimate value\", \"type\": \"scatter\", \"x\": [0, 1, 2, 3, 4, 5, 6, 7, 8, 9], \"y\": [393.50837419968775, 39.99240352433638, 48.67261341087817, 90.23921668980526, 64.21411101566449]}],\n",
              "                        {\"template\": {\"data\": {\"bar\": [{\"error_x\": {\"color\": \"#2a3f5f\"}, \"error_y\": {\"color\": \"#2a3f5f\"}, \"marker\": {\"line\": {\"color\": \"#E5ECF6\", \"width\": 0.5}}, \"type\": \"bar\"}], \"barpolar\": [{\"marker\": {\"line\": {\"color\": \"#E5ECF6\", \"width\": 0.5}}, \"type\": \"barpolar\"}], \"carpet\": [{\"aaxis\": {\"endlinecolor\": \"#2a3f5f\", \"gridcolor\": \"white\", \"linecolor\": \"white\", \"minorgridcolor\": \"white\", \"startlinecolor\": \"#2a3f5f\"}, \"baxis\": {\"endlinecolor\": \"#2a3f5f\", \"gridcolor\": \"white\", \"linecolor\": \"white\", \"minorgridcolor\": \"white\", \"startlinecolor\": \"#2a3f5f\"}, \"type\": \"carpet\"}], \"choropleth\": [{\"colorbar\": {\"outlinewidth\": 0, \"ticks\": \"\"}, \"type\": \"choropleth\"}], \"contour\": [{\"colorbar\": {\"outlinewidth\": 0, \"ticks\": \"\"}, \"colorscale\": [[0.0, \"#0d0887\"], [0.1111111111111111, \"#46039f\"], [0.2222222222222222, \"#7201a8\"], [0.3333333333333333, \"#9c179e\"], [0.4444444444444444, \"#bd3786\"], [0.5555555555555556, \"#d8576b\"], [0.6666666666666666, \"#ed7953\"], [0.7777777777777778, \"#fb9f3a\"], [0.8888888888888888, \"#fdca26\"], [1.0, \"#f0f921\"]], \"type\": \"contour\"}], \"contourcarpet\": [{\"colorbar\": {\"outlinewidth\": 0, \"ticks\": \"\"}, \"type\": \"contourcarpet\"}], \"heatmap\": [{\"colorbar\": {\"outlinewidth\": 0, \"ticks\": \"\"}, \"colorscale\": [[0.0, \"#0d0887\"], [0.1111111111111111, \"#46039f\"], [0.2222222222222222, \"#7201a8\"], [0.3333333333333333, \"#9c179e\"], [0.4444444444444444, \"#bd3786\"], [0.5555555555555556, \"#d8576b\"], [0.6666666666666666, \"#ed7953\"], [0.7777777777777778, \"#fb9f3a\"], [0.8888888888888888, \"#fdca26\"], [1.0, \"#f0f921\"]], \"type\": \"heatmap\"}], \"heatmapgl\": [{\"colorbar\": {\"outlinewidth\": 0, \"ticks\": \"\"}, \"colorscale\": [[0.0, \"#0d0887\"], [0.1111111111111111, \"#46039f\"], [0.2222222222222222, \"#7201a8\"], [0.3333333333333333, \"#9c179e\"], [0.4444444444444444, \"#bd3786\"], [0.5555555555555556, \"#d8576b\"], [0.6666666666666666, \"#ed7953\"], [0.7777777777777778, \"#fb9f3a\"], [0.8888888888888888, \"#fdca26\"], [1.0, \"#f0f921\"]], \"type\": \"heatmapgl\"}], \"histogram\": [{\"marker\": {\"colorbar\": {\"outlinewidth\": 0, \"ticks\": \"\"}}, \"type\": \"histogram\"}], \"histogram2d\": [{\"colorbar\": {\"outlinewidth\": 0, \"ticks\": \"\"}, \"colorscale\": [[0.0, \"#0d0887\"], [0.1111111111111111, \"#46039f\"], [0.2222222222222222, \"#7201a8\"], [0.3333333333333333, \"#9c179e\"], [0.4444444444444444, \"#bd3786\"], [0.5555555555555556, \"#d8576b\"], [0.6666666666666666, \"#ed7953\"], [0.7777777777777778, \"#fb9f3a\"], [0.8888888888888888, \"#fdca26\"], [1.0, \"#f0f921\"]], \"type\": \"histogram2d\"}], \"histogram2dcontour\": [{\"colorbar\": {\"outlinewidth\": 0, \"ticks\": \"\"}, \"colorscale\": [[0.0, \"#0d0887\"], [0.1111111111111111, \"#46039f\"], [0.2222222222222222, \"#7201a8\"], [0.3333333333333333, \"#9c179e\"], [0.4444444444444444, \"#bd3786\"], [0.5555555555555556, \"#d8576b\"], [0.6666666666666666, \"#ed7953\"], [0.7777777777777778, \"#fb9f3a\"], [0.8888888888888888, \"#fdca26\"], [1.0, \"#f0f921\"]], \"type\": \"histogram2dcontour\"}], \"mesh3d\": [{\"colorbar\": {\"outlinewidth\": 0, \"ticks\": \"\"}, \"type\": \"mesh3d\"}], \"parcoords\": [{\"line\": {\"colorbar\": {\"outlinewidth\": 0, \"ticks\": \"\"}}, \"type\": \"parcoords\"}], \"pie\": [{\"automargin\": true, \"type\": \"pie\"}], \"scatter\": [{\"marker\": {\"colorbar\": {\"outlinewidth\": 0, \"ticks\": \"\"}}, \"type\": \"scatter\"}], \"scatter3d\": [{\"line\": {\"colorbar\": {\"outlinewidth\": 0, \"ticks\": \"\"}}, \"marker\": {\"colorbar\": {\"outlinewidth\": 0, \"ticks\": \"\"}}, \"type\": \"scatter3d\"}], \"scattercarpet\": [{\"marker\": {\"colorbar\": {\"outlinewidth\": 0, \"ticks\": \"\"}}, \"type\": \"scattercarpet\"}], \"scattergeo\": [{\"marker\": {\"colorbar\": {\"outlinewidth\": 0, \"ticks\": \"\"}}, \"type\": \"scattergeo\"}], \"scattergl\": [{\"marker\": {\"colorbar\": {\"outlinewidth\": 0, \"ticks\": \"\"}}, \"type\": \"scattergl\"}], \"scattermapbox\": [{\"marker\": {\"colorbar\": {\"outlinewidth\": 0, \"ticks\": \"\"}}, \"type\": \"scattermapbox\"}], \"scatterpolar\": [{\"marker\": {\"colorbar\": {\"outlinewidth\": 0, \"ticks\": \"\"}}, \"type\": \"scatterpolar\"}], \"scatterpolargl\": [{\"marker\": {\"colorbar\": {\"outlinewidth\": 0, \"ticks\": \"\"}}, \"type\": \"scatterpolargl\"}], \"scatterternary\": [{\"marker\": {\"colorbar\": {\"outlinewidth\": 0, \"ticks\": \"\"}}, \"type\": \"scatterternary\"}], \"surface\": [{\"colorbar\": {\"outlinewidth\": 0, \"ticks\": \"\"}, \"colorscale\": [[0.0, \"#0d0887\"], [0.1111111111111111, \"#46039f\"], [0.2222222222222222, \"#7201a8\"], [0.3333333333333333, \"#9c179e\"], [0.4444444444444444, \"#bd3786\"], [0.5555555555555556, \"#d8576b\"], [0.6666666666666666, \"#ed7953\"], [0.7777777777777778, \"#fb9f3a\"], [0.8888888888888888, \"#fdca26\"], [1.0, \"#f0f921\"]], \"type\": \"surface\"}], \"table\": [{\"cells\": {\"fill\": {\"color\": \"#EBF0F8\"}, \"line\": {\"color\": \"white\"}}, \"header\": {\"fill\": {\"color\": \"#C8D4E3\"}, \"line\": {\"color\": \"white\"}}, \"type\": \"table\"}]}, \"layout\": {\"annotationdefaults\": {\"arrowcolor\": \"#2a3f5f\", \"arrowhead\": 0, \"arrowwidth\": 1}, \"coloraxis\": {\"colorbar\": {\"outlinewidth\": 0, \"ticks\": \"\"}}, \"colorscale\": {\"diverging\": [[0, \"#8e0152\"], [0.1, \"#c51b7d\"], [0.2, \"#de77ae\"], [0.3, \"#f1b6da\"], [0.4, \"#fde0ef\"], [0.5, \"#f7f7f7\"], [0.6, \"#e6f5d0\"], [0.7, \"#b8e186\"], [0.8, \"#7fbc41\"], [0.9, \"#4d9221\"], [1, \"#276419\"]], \"sequential\": [[0.0, \"#0d0887\"], [0.1111111111111111, \"#46039f\"], [0.2222222222222222, \"#7201a8\"], [0.3333333333333333, \"#9c179e\"], [0.4444444444444444, \"#bd3786\"], [0.5555555555555556, \"#d8576b\"], [0.6666666666666666, \"#ed7953\"], [0.7777777777777778, \"#fb9f3a\"], [0.8888888888888888, \"#fdca26\"], [1.0, \"#f0f921\"]], \"sequentialminus\": [[0.0, \"#0d0887\"], [0.1111111111111111, \"#46039f\"], [0.2222222222222222, \"#7201a8\"], [0.3333333333333333, \"#9c179e\"], [0.4444444444444444, \"#bd3786\"], [0.5555555555555556, \"#d8576b\"], [0.6666666666666666, \"#ed7953\"], [0.7777777777777778, \"#fb9f3a\"], [0.8888888888888888, \"#fdca26\"], [1.0, \"#f0f921\"]]}, \"colorway\": [\"#636efa\", \"#EF553B\", \"#00cc96\", \"#ab63fa\", \"#FFA15A\", \"#19d3f3\", \"#FF6692\", \"#B6E880\", \"#FF97FF\", \"#FECB52\"], \"font\": {\"color\": \"#2a3f5f\"}, \"geo\": {\"bgcolor\": \"white\", \"lakecolor\": \"white\", \"landcolor\": \"#E5ECF6\", \"showlakes\": true, \"showland\": true, \"subunitcolor\": \"white\"}, \"hoverlabel\": {\"align\": \"left\"}, \"hovermode\": \"closest\", \"mapbox\": {\"style\": \"light\"}, \"paper_bgcolor\": \"white\", \"plot_bgcolor\": \"#E5ECF6\", \"polar\": {\"angularaxis\": {\"gridcolor\": \"white\", \"linecolor\": \"white\", \"ticks\": \"\"}, \"bgcolor\": \"#E5ECF6\", \"radialaxis\": {\"gridcolor\": \"white\", \"linecolor\": \"white\", \"ticks\": \"\"}}, \"scene\": {\"xaxis\": {\"backgroundcolor\": \"#E5ECF6\", \"gridcolor\": \"white\", \"gridwidth\": 2, \"linecolor\": \"white\", \"showbackground\": true, \"ticks\": \"\", \"zerolinecolor\": \"white\"}, \"yaxis\": {\"backgroundcolor\": \"#E5ECF6\", \"gridcolor\": \"white\", \"gridwidth\": 2, \"linecolor\": \"white\", \"showbackground\": true, \"ticks\": \"\", \"zerolinecolor\": \"white\"}, \"zaxis\": {\"backgroundcolor\": \"#E5ECF6\", \"gridcolor\": \"white\", \"gridwidth\": 2, \"linecolor\": \"white\", \"showbackground\": true, \"ticks\": \"\", \"zerolinecolor\": \"white\"}}, \"shapedefaults\": {\"line\": {\"color\": \"#2a3f5f\"}}, \"ternary\": {\"aaxis\": {\"gridcolor\": \"white\", \"linecolor\": \"white\", \"ticks\": \"\"}, \"baxis\": {\"gridcolor\": \"white\", \"linecolor\": \"white\", \"ticks\": \"\"}, \"bgcolor\": \"#E5ECF6\", \"caxis\": {\"gridcolor\": \"white\", \"linecolor\": \"white\", \"ticks\": \"\"}}, \"title\": {\"x\": 0.05}, \"xaxis\": {\"automargin\": true, \"gridcolor\": \"white\", \"linecolor\": \"white\", \"ticks\": \"\", \"title\": {\"standoff\": 15}, \"zerolinecolor\": \"white\", \"zerolinewidth\": 2}, \"yaxis\": {\"automargin\": true, \"gridcolor\": \"white\", \"linecolor\": \"white\", \"ticks\": \"\", \"title\": {\"standoff\": 15}, \"zerolinecolor\": \"white\", \"zerolinewidth\": 2}}}},\n",
              "                        {\"responsive\": true}\n",
              "                    ).then(function(){\n",
              "                            \n",
              "var gd = document.getElementById('14ded01e-d73c-4d95-977a-62c823d2a832');\n",
              "var x = new MutationObserver(function (mutations, observer) {{\n",
              "        var display = window.getComputedStyle(gd).display;\n",
              "        if (!display || display === 'none') {{\n",
              "            console.log([gd, 'removed!']);\n",
              "            Plotly.purge(gd);\n",
              "            observer.disconnect();\n",
              "        }}\n",
              "}});\n",
              "\n",
              "// Listen for the removal of the full notebook cells\n",
              "var notebookContainer = gd.closest('#notebook-container');\n",
              "if (notebookContainer) {{\n",
              "    x.observe(notebookContainer, {childList: true});\n",
              "}}\n",
              "\n",
              "// Listen for the clearing of the current output cell\n",
              "var outputEl = gd.closest('.output');\n",
              "if (outputEl) {{\n",
              "    x.observe(outputEl, {childList: true});\n",
              "}}\n",
              "\n",
              "                        })\n",
              "                };\n",
              "                \n",
              "            </script>\n",
              "        </div>\n",
              "</body>\n",
              "</html>"
            ]
          },
          "metadata": {}
        }
      ]
    },
    {
      "cell_type": "markdown",
      "metadata": {
        "id": "c6Lnq-Vgt6N8"
      },
      "source": [
        "## Diagnostics\n",
        "\n",
        "Expressions:\n",
        "```\n",
        "if\n",
        "    (ModelIndications(MECHANICAL,[SVH,SH,VH],[BRG_1_OIL_DRAIN_TEMP])>=1.0\n",
        "    and\n",
        "    ModelIndications(MECHANICAL,[SVH,SH,VH],[BRG_1_MTL_TEMP_1, BRG_1_MTL_TEMP_2, BRG_1_MTL_TEMP_3, BRG_1_MTL_TEMP_4])>=1.0)\n",
        "then \n",
        "    Priority(2)\n",
        "else if\n",
        "    (ModelIndications(MECHANICAL,[SVH,SH,VH],[BRG_1_OIL_DRAIN_TEMP])>=1.0\n",
        "    or \n",
        "    (ModelIndications(MECHANICAL,[VAR,H],[BRG_1_OIL_DRAIN_TEMP])>=1.0\n",
        "    and\n",
        "    ModelIndications(MECHANICAL,[VAR,H],[BRG_1_MTL_TEMP_1, BRG_1_MTL_TEMP_2, BRG_1_MTL_TEMP_3, BRG_1_MTL_TEMP_4])>=1.0))\n",
        "then \n",
        "    Priority(3)\n",
        "else if\n",
        "    (ModelIndications(MECHANICAL,[VAR,H],[BRG_1_OIL_DRAIN_TEMP])>=1.0)\n",
        "then \n",
        "    Priority(4)\n",
        "else\n",
        "    IsAssociated(MECHANICAL,[GROSS_LOAD,AMBIENT_TEMP,LUBE_OIL_COOLER_OIL_OUTLET_TEMP, LUBE_OIL_COOLER_OIL_OUTLET_PRESS])\n",
        "```\n",
        "\n",
        "Diagnostic Functions\n",
        "\n",
        "https://www.ge.com/digital/documentation/predix-apm/latest/r_apm_smartsignal_exp_syn_diagnostics_functions.html"
      ]
    },
    {
      "cell_type": "code",
      "metadata": {
        "id": "Y1Jdt-potiU_"
      },
      "source": [
        "def ModelIndications(model, model_tag_rules, asset_tags):\n",
        "    \"\"\"Returns a count of the number of model tag advisory indications on a set of model tags\n",
        "\n",
        "    Parameters\n",
        "    ----------\n",
        "    model : str\n",
        "        A name of a model in the asset blueprint\n",
        "    model_tag_rules : list\n",
        "        A list of model blueprint tag rules (mnemonics)\n",
        "    asset_tags : list\n",
        "         A list of asset blueprint tags aliases\n",
        "    \"\"\"\n",
        "    pass"
      ],
      "execution_count": null,
      "outputs": []
    },
    {
      "cell_type": "code",
      "metadata": {
        "colab": {
          "base_uri": "https://localhost:8080/"
        },
        "id": "hNH0tGYAwMne",
        "outputId": "c8366231-5239-4bfb-c436-6247a95bfe2e"
      },
      "source": [
        "help(ModelIndications)"
      ],
      "execution_count": null,
      "outputs": [
        {
          "output_type": "stream",
          "name": "stdout",
          "text": [
            "Help on function ModelIndications in module __main__:\n",
            "\n",
            "ModelIndications(model, model_tag_rules, asset_tags)\n",
            "    Returns a count of the number of model tag advisory indications on a set of model tags\n",
            "    \n",
            "    Parameters\n",
            "    ----------\n",
            "    model : str\n",
            "        A name of a model in the asset blueprint\n",
            "    model_tag_rules : list\n",
            "        A list of model blueprint tag rules (mnemonics)\n",
            "    asset_tags : list\n",
            "         A list of asset blueprint tags aliases\n",
            "\n"
          ]
        }
      ]
    },
    {
      "cell_type": "code",
      "metadata": {
        "id": "D8AU3PUfwOSs"
      },
      "source": [
        ""
      ],
      "execution_count": null,
      "outputs": []
    }
  ]
}